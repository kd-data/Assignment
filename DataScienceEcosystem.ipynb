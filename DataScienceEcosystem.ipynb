{
 "cells": [
  {
   "cell_type": "markdown",
   "id": "360cc048-2c0d-42d2-8462-61f94f3e73d3",
   "metadata": {},
   "source": [
    "# Data Science Tools and Ecosystem"
   ]
  },
  {
   "cell_type": "markdown",
   "id": "debfe62d-e970-46c9-8f3b-e6a52af99a9c",
   "metadata": {},
   "source": [
    "In this notebook, Data Science Tools and Ecosystem are summarized."
   ]
  },
  {
   "cell_type": "markdown",
   "id": "7873f8ac-9c46-47f7-80ab-81f884c632f2",
   "metadata": {},
   "source": [
    "Some of the key takeaways from the course are:\n",
    "\n",
    "**Objectives:**\n",
    "+ List popular languages for Data Science\n",
    "+ Name popular languages data scientists use\n",
    "+ Get familiar with Jupyter Notebook and R\n",
    "+ Learn how to create and use GitHub"
   ]
  },
  {
   "cell_type": "markdown",
   "id": "dc4b40ac-0360-4099-b001-4782df6fd7d7",
   "metadata": {
    "tags": []
   },
   "source": [
    "Some of the popular languages that Data Scientists use are:"
   ]
  },
  {
   "cell_type": "markdown",
   "id": "17710591-809e-4d50-9254-63d8df90268e",
   "metadata": {},
   "source": [
    "    1. Python\n",
    "    2. R\n",
    "    3. SQL"
   ]
  },
  {
   "cell_type": "markdown",
   "id": "37a4bd1c-6792-4f9e-8c98-5a96415d0b1d",
   "metadata": {
    "tags": []
   },
   "source": [
    "Some of the commonly used libraries used by Data Scientists include:"
   ]
  },
  {
   "cell_type": "markdown",
   "id": "355f577b-1028-407d-9c94-a6f510fe5f75",
   "metadata": {},
   "source": [
    "1. Pandas\n",
    "2. NumPy\n",
    "3. SciPy\n",
    "4. Matplotlib"
   ]
  },
  {
   "cell_type": "markdown",
   "id": "dd100b73-aa9f-4449-9a74-17f2db4aea3f",
   "metadata": {},
   "source": [
    "| Data Science Tools |\n",
    "| ------------------ |\n",
    "|Data Management Tools|\n",
    "|Data Integration and Transformation Tools|\n",
    "|Data Visualization Tools|\n",
    "|Code Asset Management Tools|"
   ]
  },
  {
   "cell_type": "markdown",
   "id": "f8b15a35-b266-4cd7-b0c8-aabbdfc606b9",
   "metadata": {},
   "source": [
    "### Below are a few examples of evaluating arithmetic expressions in Python"
   ]
  },
  {
   "cell_type": "code",
   "execution_count": 4,
   "id": "7b758c14-7a66-44df-82fe-a15073bdde52",
   "metadata": {
    "tags": []
   },
   "outputs": [
    {
     "data": {
      "text/plain": [
       "17"
      ]
     },
     "execution_count": 4,
     "metadata": {},
     "output_type": "execute_result"
    }
   ],
   "source": [
    "#This a simple arithmetic expression to mutiply then add integers\n",
    "(3*4)+5"
   ]
  },
  {
   "cell_type": "code",
   "execution_count": 11,
   "id": "49333aca-5956-4007-9f0a-97c1d9cbf444",
   "metadata": {
    "tags": []
   },
   "outputs": [
    {
     "name": "stdout",
     "output_type": "stream",
     "text": [
      "hours = 3.3333333333333335\n"
     ]
    }
   ],
   "source": [
    "#This will convert 200 minutes to hours by diving by 60\n",
    "hours = 200/60\n",
    "print(\"hours =\", hours)"
   ]
  },
  {
   "cell_type": "markdown",
   "id": "7343c1d7-b525-4070-ac73-3d2da1870886",
   "metadata": {},
   "source": [
    "## Author\n",
    "Katarina Dragin"
   ]
  },
  {
   "cell_type": "code",
   "execution_count": null,
   "id": "9d5d2241-b49b-4941-9be4-873b0fb9767f",
   "metadata": {},
   "outputs": [],
   "source": []
  }
 ],
 "metadata": {
  "kernelspec": {
   "display_name": "Python",
   "language": "python",
   "name": "conda-env-python-py"
  },
  "language_info": {
   "codemirror_mode": {
    "name": "ipython",
    "version": 3
   },
   "file_extension": ".py",
   "mimetype": "text/x-python",
   "name": "python",
   "nbconvert_exporter": "python",
   "pygments_lexer": "ipython3",
   "version": "3.7.12"
  }
 },
 "nbformat": 4,
 "nbformat_minor": 5
}
